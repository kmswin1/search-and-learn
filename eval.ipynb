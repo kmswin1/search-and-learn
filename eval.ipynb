{
 "cells": [
  {
   "cell_type": "code",
   "execution_count": 1,
   "metadata": {},
   "outputs": [],
   "source": [
    "import json"
   ]
  },
  {
   "cell_type": "code",
   "execution_count": 2,
   "metadata": {},
   "outputs": [
    {
     "name": "stdout",
     "output_type": "stream",
     "text": [
      "{'question': \"Hint: Please answer the question requiring a floating-point number with one decimal place and provide the final value, e.g., 1.2, 1.3, 1.4, at the end.\\nQuestion: When a spring does work on an object, we cannot find the work by simply multiplying the spring force by the object's displacement. The reason is that there is no one value for the force-it changes. However, we can split the displacement up into an infinite number of tiny parts and then approximate the force in each as being constant. Integration sums the work done in all those parts. Here we use the generic result of the integration.\\r\\n\\r\\nIn Figure, a cumin canister of mass $m=0.40 \\\\mathrm{~kg}$ slides across a horizontal frictionless counter with speed $v=0.50 \\\\mathrm{~m} / \\\\mathrm{s}$. It then runs into and compresses a spring of spring constant $k=750 \\\\mathrm{~N} / \\\\mathrm{m}$. When the canister is momentarily stopped by the spring, by what distance $d$ is the spring compressed?\", 'answer': '1.2', 'prediction': 'To find the distance $d$ the spring is compressed, we need to calculate the work done by the spring force on the canister. The work done by a spring force is given by the integral of the force over the displacement. In this case, the force is the spring force, and the displacement is the distance the canister is compressed.\\n\\nGiven:\\n- Mass of the canister, \\\\( m = 0.40 \\\\, \\\\text{kg} \\\\)\\n- Speed of the canister, \\\\( v = 0.50 \\\\, \\\\text{m/s} \\\\)\\n- Spring constant, \\\\( k = 750 \\\\, \\\\text{N/m} \\\\)\\n\\nThe work done by the spring force can be calculated using the formula:\\n\\\\[ W = \\\\int_{0}^{d} F \\\\, dx \\\\]\\nwhere \\\\( F \\\\) is the spring force and \\\\( dx \\\\) is the infinitesimal displacement.\\n\\nThe spring force is given by:\\n\\\\[ F = k \\\\cdot x \\\\]\\n\\nSubstituting the given values:\\n\\\\[ W = \\\\int_{0}^{d} k \\\\cdot x \\\\, dx \\\\]\\n\\nWe can split the integral into two parts:\\n\\\\[ W = k \\\\cdot \\\\left[ \\\\frac{x^2}{2} \\\\right]_0^d \\\\]\\n\\nEvaluating the integral:\\n\\\\[ W = k \\\\cdot \\\\frac{d^2}{2} \\\\]\\n\\nSubstituting the given values:\\n\\\\[ W = 750 \\\\cdot \\\\frac{d^2}{2} \\\\]\\n\\nWe know the speed of the canister is \\\\( v = 0.50 \\\\, \\\\text{m/s} \\\\), so the distance \\\\( d \\\\) is:\\n\\\\[ d = \\\\frac{v^2}{2a} \\\\]\\n\\nWhere \\\\( a \\\\) is the acceleration due to gravity, \\\\( g = 9.8 \\\\, \\\\text{m/s}^2 \\\\):\\n\\\\[ d = \\\\frac{(0.50 \\\\, \\\\text{m/s})^2}{2 \\\\cdot 9.8 \\\\, \\\\text{m/s}^2} \\\\]\\n\\nCalculating the distance:\\n\\\\[ d = \\\\frac{0.25}{19.6} \\\\approx 0.013 \\\\, \\\\text{m} \\\\]\\n\\nTherefore, the spring is compressed by approximately \\\\( 0.013 \\\\, \\\\text{m} \\\\).'}\n"
     ]
    }
   ],
   "source": [
    "with open(\"results/Qwen2-VL-2B-Instruct_mathvista.jsonl\", \"r\") as f:\n",
    "    for line in f:\n",
    "        line = json.loads(line)\n",
    "        print (line)\n",
    "        break"
   ]
  },
  {
   "cell_type": "code",
   "execution_count": 40,
   "metadata": {},
   "outputs": [],
   "source": [
    "acc = []\n",
    "with open(\"results/Qwen2-VL-72B-Instruct_mathvista.jsonl\", \"r\") as f:\n",
    "    for line in f:\n",
    "        line = json.loads(line)\n",
    "        pred = line[\"prediction\"]\n",
    "        answer = str(line[\"answer\"])\n",
    "        if answer in pred.split(\"answer:\")[-1]:\n",
    "            acc.append(True)\n",
    "        else:\n",
    "            acc.append(False)"
   ]
  },
  {
   "cell_type": "code",
   "execution_count": 41,
   "metadata": {},
   "outputs": [
    {
     "data": {
      "text/plain": [
       "0.45045045045045046"
      ]
     },
     "execution_count": 41,
     "metadata": {},
     "output_type": "execute_result"
    }
   ],
   "source": [
    "sum(acc)/len(acc)"
   ]
  },
  {
   "cell_type": "code",
   "execution_count": 36,
   "metadata": {},
   "outputs": [],
   "source": [
    "acc = []\n",
    "with open(\"results_cot/Qwen2-VL-7B-Instruct_clevrmath.jsonl\", \"r\") as f:\n",
    "    for line in f:\n",
    "        line = json.loads(line)\n",
    "        pred = line[\"prediction\"]\n",
    "        answer = str(line[\"answer\"])\n",
    "        if answer in pred.split(\"answer:\")[-1]:\n",
    "            acc.append(True)\n",
    "        else:\n",
    "            acc.append(False)"
   ]
  },
  {
   "cell_type": "code",
   "execution_count": 37,
   "metadata": {},
   "outputs": [
    {
     "data": {
      "text/plain": [
       "0.5043368950345695"
      ]
     },
     "execution_count": 37,
     "metadata": {},
     "output_type": "execute_result"
    }
   ],
   "source": [
    "sum(acc)/len(acc)"
   ]
  },
  {
   "cell_type": "code",
   "execution_count": null,
   "metadata": {},
   "outputs": [],
   "source": []
  }
 ],
 "metadata": {
  "kernelspec": {
   "display_name": "Python 3",
   "language": "python",
   "name": "python3"
  },
  "language_info": {
   "codemirror_mode": {
    "name": "ipython",
    "version": 3
   },
   "file_extension": ".py",
   "mimetype": "text/x-python",
   "name": "python",
   "nbconvert_exporter": "python",
   "pygments_lexer": "ipython3",
   "version": "3.11.4"
  }
 },
 "nbformat": 4,
 "nbformat_minor": 2
}
